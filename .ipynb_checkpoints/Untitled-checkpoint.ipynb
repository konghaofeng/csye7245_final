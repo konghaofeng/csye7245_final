{
 "cells": [
  {
   "cell_type": "code",
   "execution_count": 1,
   "metadata": {},
   "outputs": [],
   "source": [
    "import pandas as pd\n",
    "import os\n",
    "from pd_tools import split_train_test, get_part_data\n",
    "import numpy as np\n",
    "from sklearn.preprocessing import LabelEncoder, OneHotEncoder\n",
    "from sklearn.preprocessing import StandardScaler\n",
    "from sklearn.linear_model import LogisticRegression\n",
    "from sklearn import svm\n",
    "from sklearn.decomposition import PCA\n",
    "from sklearn.metrics import log_loss\n",
    "from sklearn.feature_selection import VarianceThreshold"
   ]
  },
  {
   "cell_type": "markdown",
   "metadata": {},
   "source": [
    "# Using mobile device behavior data to predict users' gender and age"
   ]
  },
  {
   "cell_type": "markdown",
   "metadata": {},
   "source": [
    "# split dataset"
   ]
  },
  {
   "cell_type": "code",
   "execution_count": 3,
   "metadata": {},
   "outputs": [],
   "source": [
    "all_gender_age = pd.read_csv(r\"\\Users\\akahkf\\csye7245_final\\dataset\\Talking Data\\dataset\\gender_age.csv\")"
   ]
  },
  {
   "cell_type": "code",
   "execution_count": 4,
   "metadata": {},
   "outputs": [],
   "source": [
    "df_train, df_test = split_train_test(all_gender_age)"
   ]
  },
  {
   "cell_type": "code",
   "execution_count": 5,
   "metadata": {},
   "outputs": [
    {
     "name": "stdout",
     "output_type": "stream",
     "text": [
      "data numbers in trainset： group\n",
      "F23-      4040\n",
      "F24-26    3352\n",
      "F27-28    2494\n",
      "F29-32    3702\n",
      "F33-42    4448\n",
      "F43+      3355\n",
      "M22-      5990\n",
      "M23-26    7684\n",
      "M27-28    4356\n",
      "M29-31    5847\n",
      "M32-38    7580\n",
      "M39+      6864\n",
      "dtype: int64\n"
     ]
    }
   ],
   "source": [
    "print('data numbers in trainset：', df_train.groupby('group').size())"
   ]
  },
  {
   "cell_type": "code",
   "execution_count": 6,
   "metadata": {},
   "outputs": [
    {
     "name": "stdout",
     "output_type": "stream",
     "text": [
      "data numbers in testset： group\n",
      "F23-      1010\n",
      "F24-26     838\n",
      "F27-28     624\n",
      "F29-32     926\n",
      "F33-42    1113\n",
      "F43+       839\n",
      "M22-      1498\n",
      "M23-26    1921\n",
      "M27-28    1089\n",
      "M29-31    1462\n",
      "M32-38    1896\n",
      "M39+      1717\n",
      "dtype: int64\n"
     ]
    }
   ],
   "source": [
    "print('data numbers in testset：', df_test.groupby('group').size())"
   ]
  },
  {
   "cell_type": "markdown",
   "metadata": {},
   "source": [
    "# strore trainset and testset"
   ]
  },
  {
   "cell_type": "code",
   "execution_count": 7,
   "metadata": {},
   "outputs": [],
   "source": [
    "df_train.to_csv(r\"\\Users\\akahkf\\csye7245_final\\dataset\\Talking Data\\dataset\\gender_age_train.csv\",index=False)"
   ]
  },
  {
   "cell_type": "code",
   "execution_count": 8,
   "metadata": {},
   "outputs": [],
   "source": [
    "df_test.to_csv(r\"\\Users\\akahkf\\csye7245_final\\dataset\\Talking Data\\dataset\\gender_age_test.csv\",index=False)"
   ]
  },
  {
   "cell_type": "markdown",
   "metadata": {},
   "source": [
    "load data and choose partial data to run model"
   ]
  },
  {
   "cell_type": "code",
   "execution_count": 9,
   "metadata": {},
   "outputs": [],
   "source": [
    "gender_age_train = pd.read_csv(r\"\\Users\\akahkf\\csye7245_final\\dataset\\Talking Data\\dataset\\gender_age_train.csv\",index_col='device_id')\n",
    "gender_age_test = pd.read_csv(r\"\\Users\\akahkf\\csye7245_final\\dataset\\Talking Data\\dataset\\gender_age_test.csv\",index_col='device_id')"
   ]
  },
  {
   "cell_type": "code",
   "execution_count": 10,
   "metadata": {},
   "outputs": [
    {
     "data": {
      "text/html": [
       "<div>\n",
       "<style scoped>\n",
       "    .dataframe tbody tr th:only-of-type {\n",
       "        vertical-align: middle;\n",
       "    }\n",
       "\n",
       "    .dataframe tbody tr th {\n",
       "        vertical-align: top;\n",
       "    }\n",
       "\n",
       "    .dataframe thead th {\n",
       "        text-align: right;\n",
       "    }\n",
       "</style>\n",
       "<table border=\"1\" class=\"dataframe\">\n",
       "  <thead>\n",
       "    <tr style=\"text-align: right;\">\n",
       "      <th></th>\n",
       "      <th>level_0</th>\n",
       "      <th>index</th>\n",
       "      <th>gender</th>\n",
       "      <th>age</th>\n",
       "      <th>group</th>\n",
       "    </tr>\n",
       "    <tr>\n",
       "      <th>device_id</th>\n",
       "      <th></th>\n",
       "      <th></th>\n",
       "      <th></th>\n",
       "      <th></th>\n",
       "      <th></th>\n",
       "    </tr>\n",
       "  </thead>\n",
       "  <tbody>\n",
       "    <tr>\n",
       "      <th>-8076087639492063270</th>\n",
       "      <td>0</td>\n",
       "      <td>0</td>\n",
       "      <td>M</td>\n",
       "      <td>35</td>\n",
       "      <td>M32-38</td>\n",
       "    </tr>\n",
       "    <tr>\n",
       "      <th>-2897161552818060146</th>\n",
       "      <td>1</td>\n",
       "      <td>1</td>\n",
       "      <td>M</td>\n",
       "      <td>35</td>\n",
       "      <td>M32-38</td>\n",
       "    </tr>\n",
       "    <tr>\n",
       "      <th>-8260683887967679142</th>\n",
       "      <td>2</td>\n",
       "      <td>2</td>\n",
       "      <td>M</td>\n",
       "      <td>35</td>\n",
       "      <td>M32-38</td>\n",
       "    </tr>\n",
       "    <tr>\n",
       "      <th>236877999787307864</th>\n",
       "      <td>3</td>\n",
       "      <td>6</td>\n",
       "      <td>M</td>\n",
       "      <td>36</td>\n",
       "      <td>M32-38</td>\n",
       "    </tr>\n",
       "    <tr>\n",
       "      <th>-8098239495777311881</th>\n",
       "      <td>4</td>\n",
       "      <td>7</td>\n",
       "      <td>M</td>\n",
       "      <td>38</td>\n",
       "      <td>M32-38</td>\n",
       "    </tr>\n",
       "    <tr>\n",
       "      <th>176515041953473526</th>\n",
       "      <td>5</td>\n",
       "      <td>8</td>\n",
       "      <td>M</td>\n",
       "      <td>33</td>\n",
       "      <td>M32-38</td>\n",
       "    </tr>\n",
       "    <tr>\n",
       "      <th>6352067998666467520</th>\n",
       "      <td>6</td>\n",
       "      <td>13</td>\n",
       "      <td>M</td>\n",
       "      <td>32</td>\n",
       "      <td>M32-38</td>\n",
       "    </tr>\n",
       "    <tr>\n",
       "      <th>4380872794486415327</th>\n",
       "      <td>7</td>\n",
       "      <td>16</td>\n",
       "      <td>M</td>\n",
       "      <td>38</td>\n",
       "      <td>M32-38</td>\n",
       "    </tr>\n",
       "    <tr>\n",
       "      <th>-1039701474753771322</th>\n",
       "      <td>8</td>\n",
       "      <td>17</td>\n",
       "      <td>M</td>\n",
       "      <td>38</td>\n",
       "      <td>M32-38</td>\n",
       "    </tr>\n",
       "    <tr>\n",
       "      <th>6287938418661076759</th>\n",
       "      <td>9</td>\n",
       "      <td>19</td>\n",
       "      <td>M</td>\n",
       "      <td>33</td>\n",
       "      <td>M32-38</td>\n",
       "    </tr>\n",
       "    <tr>\n",
       "      <th>-4913644674161904021</th>\n",
       "      <td>10</td>\n",
       "      <td>25</td>\n",
       "      <td>M</td>\n",
       "      <td>34</td>\n",
       "      <td>M32-38</td>\n",
       "    </tr>\n",
       "    <tr>\n",
       "      <th>2313145512701915151</th>\n",
       "      <td>11</td>\n",
       "      <td>26</td>\n",
       "      <td>M</td>\n",
       "      <td>34</td>\n",
       "      <td>M32-38</td>\n",
       "    </tr>\n",
       "    <tr>\n",
       "      <th>-4547337748907986143</th>\n",
       "      <td>12</td>\n",
       "      <td>28</td>\n",
       "      <td>M</td>\n",
       "      <td>37</td>\n",
       "      <td>M32-38</td>\n",
       "    </tr>\n",
       "    <tr>\n",
       "      <th>-7216269352973401877</th>\n",
       "      <td>13</td>\n",
       "      <td>29</td>\n",
       "      <td>M</td>\n",
       "      <td>37</td>\n",
       "      <td>M32-38</td>\n",
       "    </tr>\n",
       "    <tr>\n",
       "      <th>-7303294878482532208</th>\n",
       "      <td>14</td>\n",
       "      <td>30</td>\n",
       "      <td>M</td>\n",
       "      <td>33</td>\n",
       "      <td>M32-38</td>\n",
       "    </tr>\n",
       "    <tr>\n",
       "      <th>7630241409816671260</th>\n",
       "      <td>15</td>\n",
       "      <td>31</td>\n",
       "      <td>M</td>\n",
       "      <td>35</td>\n",
       "      <td>M32-38</td>\n",
       "    </tr>\n",
       "    <tr>\n",
       "      <th>5886404762741543631</th>\n",
       "      <td>16</td>\n",
       "      <td>34</td>\n",
       "      <td>M</td>\n",
       "      <td>37</td>\n",
       "      <td>M32-38</td>\n",
       "    </tr>\n",
       "    <tr>\n",
       "      <th>3444770318780911055</th>\n",
       "      <td>17</td>\n",
       "      <td>35</td>\n",
       "      <td>M</td>\n",
       "      <td>36</td>\n",
       "      <td>M32-38</td>\n",
       "    </tr>\n",
       "    <tr>\n",
       "      <th>-7360652256644378412</th>\n",
       "      <td>18</td>\n",
       "      <td>37</td>\n",
       "      <td>M</td>\n",
       "      <td>38</td>\n",
       "      <td>M32-38</td>\n",
       "    </tr>\n",
       "    <tr>\n",
       "      <th>-3207654344601946580</th>\n",
       "      <td>19</td>\n",
       "      <td>38</td>\n",
       "      <td>M</td>\n",
       "      <td>38</td>\n",
       "      <td>M32-38</td>\n",
       "    </tr>\n",
       "    <tr>\n",
       "      <th>5874501925603975585</th>\n",
       "      <td>20</td>\n",
       "      <td>55</td>\n",
       "      <td>M</td>\n",
       "      <td>38</td>\n",
       "      <td>M32-38</td>\n",
       "    </tr>\n",
       "    <tr>\n",
       "      <th>-7058264257379185672</th>\n",
       "      <td>21</td>\n",
       "      <td>56</td>\n",
       "      <td>M</td>\n",
       "      <td>38</td>\n",
       "      <td>M32-38</td>\n",
       "    </tr>\n",
       "    <tr>\n",
       "      <th>-7731743086143077949</th>\n",
       "      <td>22</td>\n",
       "      <td>57</td>\n",
       "      <td>M</td>\n",
       "      <td>35</td>\n",
       "      <td>M32-38</td>\n",
       "    </tr>\n",
       "    <tr>\n",
       "      <th>-4180524547237520433</th>\n",
       "      <td>23</td>\n",
       "      <td>62</td>\n",
       "      <td>M</td>\n",
       "      <td>36</td>\n",
       "      <td>M32-38</td>\n",
       "    </tr>\n",
       "    <tr>\n",
       "      <th>-4370696809239943432</th>\n",
       "      <td>24</td>\n",
       "      <td>66</td>\n",
       "      <td>M</td>\n",
       "      <td>36</td>\n",
       "      <td>M32-38</td>\n",
       "    </tr>\n",
       "    <tr>\n",
       "      <th>-1246353335731124816</th>\n",
       "      <td>25</td>\n",
       "      <td>68</td>\n",
       "      <td>M</td>\n",
       "      <td>32</td>\n",
       "      <td>M32-38</td>\n",
       "    </tr>\n",
       "    <tr>\n",
       "      <th>5439866249778803748</th>\n",
       "      <td>26</td>\n",
       "      <td>80</td>\n",
       "      <td>M</td>\n",
       "      <td>35</td>\n",
       "      <td>M32-38</td>\n",
       "    </tr>\n",
       "    <tr>\n",
       "      <th>-8140024683963050427</th>\n",
       "      <td>27</td>\n",
       "      <td>81</td>\n",
       "      <td>M</td>\n",
       "      <td>38</td>\n",
       "      <td>M32-38</td>\n",
       "    </tr>\n",
       "    <tr>\n",
       "      <th>-360168846769617446</th>\n",
       "      <td>28</td>\n",
       "      <td>82</td>\n",
       "      <td>M</td>\n",
       "      <td>38</td>\n",
       "      <td>M32-38</td>\n",
       "    </tr>\n",
       "    <tr>\n",
       "      <th>-2056729718209154009</th>\n",
       "      <td>29</td>\n",
       "      <td>90</td>\n",
       "      <td>M</td>\n",
       "      <td>32</td>\n",
       "      <td>M32-38</td>\n",
       "    </tr>\n",
       "    <tr>\n",
       "      <th>...</th>\n",
       "      <td>...</td>\n",
       "      <td>...</td>\n",
       "      <td>...</td>\n",
       "      <td>...</td>\n",
       "      <td>...</td>\n",
       "    </tr>\n",
       "    <tr>\n",
       "      <th>-793222676164902176</th>\n",
       "      <td>3672</td>\n",
       "      <td>56529</td>\n",
       "      <td>F</td>\n",
       "      <td>31</td>\n",
       "      <td>F29-32</td>\n",
       "    </tr>\n",
       "    <tr>\n",
       "      <th>2207579585562459590</th>\n",
       "      <td>3673</td>\n",
       "      <td>56545</td>\n",
       "      <td>F</td>\n",
       "      <td>31</td>\n",
       "      <td>F29-32</td>\n",
       "    </tr>\n",
       "    <tr>\n",
       "      <th>4055986412965187608</th>\n",
       "      <td>3674</td>\n",
       "      <td>56553</td>\n",
       "      <td>F</td>\n",
       "      <td>30</td>\n",
       "      <td>F29-32</td>\n",
       "    </tr>\n",
       "    <tr>\n",
       "      <th>7713109121506087846</th>\n",
       "      <td>3675</td>\n",
       "      <td>56603</td>\n",
       "      <td>F</td>\n",
       "      <td>32</td>\n",
       "      <td>F29-32</td>\n",
       "    </tr>\n",
       "    <tr>\n",
       "      <th>-8442301709507141631</th>\n",
       "      <td>3676</td>\n",
       "      <td>56629</td>\n",
       "      <td>F</td>\n",
       "      <td>29</td>\n",
       "      <td>F29-32</td>\n",
       "    </tr>\n",
       "    <tr>\n",
       "      <th>4842364584809817368</th>\n",
       "      <td>3677</td>\n",
       "      <td>56632</td>\n",
       "      <td>F</td>\n",
       "      <td>29</td>\n",
       "      <td>F29-32</td>\n",
       "    </tr>\n",
       "    <tr>\n",
       "      <th>-90119193454997089</th>\n",
       "      <td>3678</td>\n",
       "      <td>56637</td>\n",
       "      <td>F</td>\n",
       "      <td>32</td>\n",
       "      <td>F29-32</td>\n",
       "    </tr>\n",
       "    <tr>\n",
       "      <th>-5605989705906496956</th>\n",
       "      <td>3679</td>\n",
       "      <td>56642</td>\n",
       "      <td>F</td>\n",
       "      <td>30</td>\n",
       "      <td>F29-32</td>\n",
       "    </tr>\n",
       "    <tr>\n",
       "      <th>-2897748097413362725</th>\n",
       "      <td>3680</td>\n",
       "      <td>56653</td>\n",
       "      <td>F</td>\n",
       "      <td>31</td>\n",
       "      <td>F29-32</td>\n",
       "    </tr>\n",
       "    <tr>\n",
       "      <th>-3912530901379752169</th>\n",
       "      <td>3681</td>\n",
       "      <td>56665</td>\n",
       "      <td>F</td>\n",
       "      <td>30</td>\n",
       "      <td>F29-32</td>\n",
       "    </tr>\n",
       "    <tr>\n",
       "      <th>2905442468613664277</th>\n",
       "      <td>3682</td>\n",
       "      <td>56670</td>\n",
       "      <td>F</td>\n",
       "      <td>29</td>\n",
       "      <td>F29-32</td>\n",
       "    </tr>\n",
       "    <tr>\n",
       "      <th>698929021251691685</th>\n",
       "      <td>3683</td>\n",
       "      <td>56726</td>\n",
       "      <td>F</td>\n",
       "      <td>29</td>\n",
       "      <td>F29-32</td>\n",
       "    </tr>\n",
       "    <tr>\n",
       "      <th>-4346116053178923995</th>\n",
       "      <td>3684</td>\n",
       "      <td>56747</td>\n",
       "      <td>F</td>\n",
       "      <td>29</td>\n",
       "      <td>F29-32</td>\n",
       "    </tr>\n",
       "    <tr>\n",
       "      <th>-1632674399567059158</th>\n",
       "      <td>3685</td>\n",
       "      <td>56765</td>\n",
       "      <td>F</td>\n",
       "      <td>32</td>\n",
       "      <td>F29-32</td>\n",
       "    </tr>\n",
       "    <tr>\n",
       "      <th>-931978254629029744</th>\n",
       "      <td>3686</td>\n",
       "      <td>56770</td>\n",
       "      <td>F</td>\n",
       "      <td>31</td>\n",
       "      <td>F29-32</td>\n",
       "    </tr>\n",
       "    <tr>\n",
       "      <th>7228027911823481667</th>\n",
       "      <td>3687</td>\n",
       "      <td>56771</td>\n",
       "      <td>F</td>\n",
       "      <td>31</td>\n",
       "      <td>F29-32</td>\n",
       "    </tr>\n",
       "    <tr>\n",
       "      <th>-3480193252849979815</th>\n",
       "      <td>3688</td>\n",
       "      <td>56772</td>\n",
       "      <td>F</td>\n",
       "      <td>31</td>\n",
       "      <td>F29-32</td>\n",
       "    </tr>\n",
       "    <tr>\n",
       "      <th>414269461636346598</th>\n",
       "      <td>3689</td>\n",
       "      <td>56773</td>\n",
       "      <td>F</td>\n",
       "      <td>31</td>\n",
       "      <td>F29-32</td>\n",
       "    </tr>\n",
       "    <tr>\n",
       "      <th>3342350229471930536</th>\n",
       "      <td>3690</td>\n",
       "      <td>56782</td>\n",
       "      <td>F</td>\n",
       "      <td>29</td>\n",
       "      <td>F29-32</td>\n",
       "    </tr>\n",
       "    <tr>\n",
       "      <th>3336938310896451645</th>\n",
       "      <td>3691</td>\n",
       "      <td>56783</td>\n",
       "      <td>F</td>\n",
       "      <td>29</td>\n",
       "      <td>F29-32</td>\n",
       "    </tr>\n",
       "    <tr>\n",
       "      <th>-8683600556219660355</th>\n",
       "      <td>3692</td>\n",
       "      <td>56880</td>\n",
       "      <td>F</td>\n",
       "      <td>29</td>\n",
       "      <td>F29-32</td>\n",
       "    </tr>\n",
       "    <tr>\n",
       "      <th>1097387926730003108</th>\n",
       "      <td>3693</td>\n",
       "      <td>56895</td>\n",
       "      <td>F</td>\n",
       "      <td>30</td>\n",
       "      <td>F29-32</td>\n",
       "    </tr>\n",
       "    <tr>\n",
       "      <th>25382878494747289</th>\n",
       "      <td>3694</td>\n",
       "      <td>56896</td>\n",
       "      <td>F</td>\n",
       "      <td>30</td>\n",
       "      <td>F29-32</td>\n",
       "    </tr>\n",
       "    <tr>\n",
       "      <th>-3537624079132860740</th>\n",
       "      <td>3695</td>\n",
       "      <td>56951</td>\n",
       "      <td>F</td>\n",
       "      <td>31</td>\n",
       "      <td>F29-32</td>\n",
       "    </tr>\n",
       "    <tr>\n",
       "      <th>-451615415028527444</th>\n",
       "      <td>3696</td>\n",
       "      <td>56984</td>\n",
       "      <td>F</td>\n",
       "      <td>30</td>\n",
       "      <td>F29-32</td>\n",
       "    </tr>\n",
       "    <tr>\n",
       "      <th>5254063978538223074</th>\n",
       "      <td>3697</td>\n",
       "      <td>56986</td>\n",
       "      <td>F</td>\n",
       "      <td>30</td>\n",
       "      <td>F29-32</td>\n",
       "    </tr>\n",
       "    <tr>\n",
       "      <th>-1255535332720927195</th>\n",
       "      <td>3698</td>\n",
       "      <td>56994</td>\n",
       "      <td>F</td>\n",
       "      <td>32</td>\n",
       "      <td>F29-32</td>\n",
       "    </tr>\n",
       "    <tr>\n",
       "      <th>-316988245535079909</th>\n",
       "      <td>3699</td>\n",
       "      <td>57019</td>\n",
       "      <td>F</td>\n",
       "      <td>30</td>\n",
       "      <td>F29-32</td>\n",
       "    </tr>\n",
       "    <tr>\n",
       "      <th>1543393893853390751</th>\n",
       "      <td>3700</td>\n",
       "      <td>57044</td>\n",
       "      <td>F</td>\n",
       "      <td>30</td>\n",
       "      <td>F29-32</td>\n",
       "    </tr>\n",
       "    <tr>\n",
       "      <th>4323289436917542376</th>\n",
       "      <td>3701</td>\n",
       "      <td>57047</td>\n",
       "      <td>F</td>\n",
       "      <td>31</td>\n",
       "      <td>F29-32</td>\n",
       "    </tr>\n",
       "  </tbody>\n",
       "</table>\n",
       "<p>59712 rows × 5 columns</p>\n",
       "</div>"
      ],
      "text/plain": [
       "                      level_0  index gender  age   group\n",
       "device_id                                               \n",
       "-8076087639492063270        0      0      M   35  M32-38\n",
       "-2897161552818060146        1      1      M   35  M32-38\n",
       "-8260683887967679142        2      2      M   35  M32-38\n",
       " 236877999787307864         3      6      M   36  M32-38\n",
       "-8098239495777311881        4      7      M   38  M32-38\n",
       " 176515041953473526         5      8      M   33  M32-38\n",
       " 6352067998666467520        6     13      M   32  M32-38\n",
       " 4380872794486415327        7     16      M   38  M32-38\n",
       "-1039701474753771322        8     17      M   38  M32-38\n",
       " 6287938418661076759        9     19      M   33  M32-38\n",
       "-4913644674161904021       10     25      M   34  M32-38\n",
       " 2313145512701915151       11     26      M   34  M32-38\n",
       "-4547337748907986143       12     28      M   37  M32-38\n",
       "-7216269352973401877       13     29      M   37  M32-38\n",
       "-7303294878482532208       14     30      M   33  M32-38\n",
       " 7630241409816671260       15     31      M   35  M32-38\n",
       " 5886404762741543631       16     34      M   37  M32-38\n",
       " 3444770318780911055       17     35      M   36  M32-38\n",
       "-7360652256644378412       18     37      M   38  M32-38\n",
       "-3207654344601946580       19     38      M   38  M32-38\n",
       " 5874501925603975585       20     55      M   38  M32-38\n",
       "-7058264257379185672       21     56      M   38  M32-38\n",
       "-7731743086143077949       22     57      M   35  M32-38\n",
       "-4180524547237520433       23     62      M   36  M32-38\n",
       "-4370696809239943432       24     66      M   36  M32-38\n",
       "-1246353335731124816       25     68      M   32  M32-38\n",
       " 5439866249778803748       26     80      M   35  M32-38\n",
       "-8140024683963050427       27     81      M   38  M32-38\n",
       "-360168846769617446        28     82      M   38  M32-38\n",
       "-2056729718209154009       29     90      M   32  M32-38\n",
       "...                       ...    ...    ...  ...     ...\n",
       "-793222676164902176      3672  56529      F   31  F29-32\n",
       " 2207579585562459590     3673  56545      F   31  F29-32\n",
       " 4055986412965187608     3674  56553      F   30  F29-32\n",
       " 7713109121506087846     3675  56603      F   32  F29-32\n",
       "-8442301709507141631     3676  56629      F   29  F29-32\n",
       " 4842364584809817368     3677  56632      F   29  F29-32\n",
       "-90119193454997089       3678  56637      F   32  F29-32\n",
       "-5605989705906496956     3679  56642      F   30  F29-32\n",
       "-2897748097413362725     3680  56653      F   31  F29-32\n",
       "-3912530901379752169     3681  56665      F   30  F29-32\n",
       " 2905442468613664277     3682  56670      F   29  F29-32\n",
       " 698929021251691685      3683  56726      F   29  F29-32\n",
       "-4346116053178923995     3684  56747      F   29  F29-32\n",
       "-1632674399567059158     3685  56765      F   32  F29-32\n",
       "-931978254629029744      3686  56770      F   31  F29-32\n",
       " 7228027911823481667     3687  56771      F   31  F29-32\n",
       "-3480193252849979815     3688  56772      F   31  F29-32\n",
       " 414269461636346598      3689  56773      F   31  F29-32\n",
       " 3342350229471930536     3690  56782      F   29  F29-32\n",
       " 3336938310896451645     3691  56783      F   29  F29-32\n",
       "-8683600556219660355     3692  56880      F   29  F29-32\n",
       " 1097387926730003108     3693  56895      F   30  F29-32\n",
       " 25382878494747289       3694  56896      F   30  F29-32\n",
       "-3537624079132860740     3695  56951      F   31  F29-32\n",
       "-451615415028527444      3696  56984      F   30  F29-32\n",
       " 5254063978538223074     3697  56986      F   30  F29-32\n",
       "-1255535332720927195     3698  56994      F   32  F29-32\n",
       "-316988245535079909      3699  57019      F   30  F29-32\n",
       " 1543393893853390751     3700  57044      F   30  F29-32\n",
       " 4323289436917542376     3701  57047      F   31  F29-32\n",
       "\n",
       "[59712 rows x 5 columns]"
      ]
     },
     "execution_count": 10,
     "metadata": {},
     "output_type": "execute_result"
    }
   ],
   "source": [
    "gender_age_train"
   ]
  },
  {
   "cell_type": "code",
   "execution_count": 11,
   "metadata": {},
   "outputs": [],
   "source": [
    "percent = 0.5\n",
    "gender_age_train = get_part_data(gender_age_train, percent=percent)\n",
    "gender_age_test = get_part_data(gender_age_test, percent=percent)"
   ]
  },
  {
   "cell_type": "code",
   "execution_count": 12,
   "metadata": {},
   "outputs": [],
   "source": [
    "phone_brand_device_model = pd.read_csv(r\"C:\\Users\\akahkf\\csye7245_final\\dataset\\Talking Data\\dataset\\phone_brand_device_model.csv\")"
   ]
  },
  {
   "cell_type": "markdown",
   "metadata": {},
   "source": [
    "# remove duplicate data"
   ]
  },
  {
   "cell_type": "code",
   "execution_count": 13,
   "metadata": {},
   "outputs": [],
   "source": [
    "phone_brand_device_model = phone_brand_device_model.drop_duplicates('device_id').set_index('device_id')"
   ]
  },
  {
   "cell_type": "code",
   "execution_count": 14,
   "metadata": {},
   "outputs": [
    {
     "name": "stderr",
     "output_type": "stream",
     "text": [
      "D:\\program\\Anaconda\\lib\\site-packages\\numpy\\lib\\arraysetops.py:472: FutureWarning: elementwise comparison failed; returning scalar instead, but in the future will perform elementwise comparison\n",
      "  mask |= (ar1 == a)\n"
     ]
    }
   ],
   "source": [
    "events = pd.read_csv(r\"C:\\Users\\akahkf\\csye7245_final\\dataset\\Talking Data\\dataset\\events.csv\",\n",
    "                     usecols=['device_id', 'event_id'], index_col='event_id')"
   ]
  },
  {
   "cell_type": "code",
   "execution_count": 15,
   "metadata": {},
   "outputs": [],
   "source": [
    "app_events = pd.read_csv(r\"C:\\Users\\akahkf\\csye7245_final\\dataset\\Talking Data\\dataset\\app_events.csv\",\n",
    "                             usecols=['event_id', 'app_id'])"
   ]
  },
  {
   "cell_type": "code",
   "execution_count": 16,
   "metadata": {},
   "outputs": [],
   "source": [
    "app_labels = pd.read_csv(r\"C:\\Users\\akahkf\\csye7245_final\\dataset\\Talking Data\\dataset\\app_labels.csv\")"
   ]
  },
  {
   "cell_type": "markdown",
   "metadata": {},
   "source": [
    "# feature engineering\n",
    "# phone brand feature engineering\n",
    "# change brand to numbers using lable encoder"
   ]
  },
  {
   "cell_type": "code",
   "execution_count": 17,
   "metadata": {},
   "outputs": [],
   "source": [
    "brand_label_encoder = LabelEncoder()\n",
    "brand_label_encoder.fit(phone_brand_device_model['phone_brand'].values)\n",
    "phone_brand_device_model['brand_label_code'] = \\\n",
    "        brand_label_encoder.transform(phone_brand_device_model['phone_brand'].values)"
   ]
  },
  {
   "cell_type": "code",
   "execution_count": 18,
   "metadata": {},
   "outputs": [],
   "source": [
    "gender_age_train['brand_label_code'] = phone_brand_device_model['brand_label_code']\n",
    "gender_age_test['brand_label_code'] = phone_brand_device_model['brand_label_code']"
   ]
  },
  {
   "cell_type": "markdown",
   "metadata": {},
   "source": [
    "# change brand numbers to onehot number using onehotEncoder"
   ]
  },
  {
   "cell_type": "code",
   "execution_count": 19,
   "metadata": {},
   "outputs": [],
   "source": [
    "brand_onehot_encoder = OneHotEncoder()\n",
    "\n",
    "brand_onehot_encoder.fit(phone_brand_device_model['brand_label_code'].values.reshape(-1, 1))\n",
    "\n",
    "train_brand_feat = brand_onehot_encoder.transform(gender_age_train['brand_label_code'].values.reshape(-1, 1))\n",
    "\n",
    "test_brand_feat = brand_onehot_encoder.transform(gender_age_test['brand_label_code'].values.reshape(-1, 1))"
   ]
  },
  {
   "cell_type": "code",
   "execution_count": 20,
   "metadata": {},
   "outputs": [
    {
     "name": "stdout",
     "output_type": "stream",
     "text": [
      "phone brand feature dim 131\n"
     ]
    }
   ],
   "source": [
    "print(\"phone brand feature dim\", train_brand_feat.shape[1])"
   ]
  },
  {
   "cell_type": "markdown",
   "metadata": {},
   "source": [
    "# get phone model feature and change model to one hot number"
   ]
  },
  {
   "cell_type": "code",
   "execution_count": 21,
   "metadata": {},
   "outputs": [],
   "source": [
    "#  merge the phone brand and phone mode string "
   ]
  },
  {
   "cell_type": "code",
   "execution_count": 22,
   "metadata": {},
   "outputs": [],
   "source": [
    "phone_brand_device_model['brand_model'] = \\\n",
    "        phone_brand_device_model['phone_brand'].str.cat(phone_brand_device_model['device_model'])"
   ]
  },
  {
   "cell_type": "code",
   "execution_count": 23,
   "metadata": {},
   "outputs": [],
   "source": [
    "# change model to numbers using lable encoder"
   ]
  },
  {
   "cell_type": "code",
   "execution_count": 24,
   "metadata": {},
   "outputs": [],
   "source": [
    "model_label_encoder = LabelEncoder()"
   ]
  },
  {
   "cell_type": "code",
   "execution_count": 25,
   "metadata": {},
   "outputs": [
    {
     "data": {
      "text/plain": [
       "LabelEncoder()"
      ]
     },
     "execution_count": 25,
     "metadata": {},
     "output_type": "execute_result"
    }
   ],
   "source": [
    "model_label_encoder.fit(phone_brand_device_model['brand_model'].values)"
   ]
  },
  {
   "cell_type": "code",
   "execution_count": 26,
   "metadata": {},
   "outputs": [],
   "source": [
    "phone_brand_device_model['brand_model_label_code'] = \\\n",
    "        model_label_encoder.transform(phone_brand_device_model['brand_model'].values)"
   ]
  },
  {
   "cell_type": "code",
   "execution_count": 27,
   "metadata": {},
   "outputs": [],
   "source": [
    "gender_age_train['brand_model_label_code'] = phone_brand_device_model['brand_model_label_code']"
   ]
  },
  {
   "cell_type": "code",
   "execution_count": 28,
   "metadata": {},
   "outputs": [],
   "source": [
    "gender_age_test['brand_model_label_code'] = phone_brand_device_model['brand_model_label_code']"
   ]
  },
  {
   "cell_type": "code",
   "execution_count": 29,
   "metadata": {},
   "outputs": [],
   "source": [
    "# change model numbers to onehot number using onehotEncoder"
   ]
  },
  {
   "cell_type": "code",
   "execution_count": 30,
   "metadata": {},
   "outputs": [],
   "source": [
    "model_onehot_encoder = OneHotEncoder()"
   ]
  },
  {
   "cell_type": "code",
   "execution_count": 31,
   "metadata": {},
   "outputs": [
    {
     "data": {
      "text/plain": [
       "OneHotEncoder(categorical_features='all', dtype=<class 'numpy.float64'>,\n",
       "       handle_unknown='error', n_values='auto', sparse=True)"
      ]
     },
     "execution_count": 31,
     "metadata": {},
     "output_type": "execute_result"
    }
   ],
   "source": [
    "model_onehot_encoder.fit(phone_brand_device_model['brand_model_label_code'].values.reshape(-1, 1))"
   ]
  },
  {
   "cell_type": "code",
   "execution_count": 32,
   "metadata": {},
   "outputs": [],
   "source": [
    "train_model_feat = model_onehot_encoder.transform(gender_age_train['brand_model_label_code'].values.reshape(-1, 1))"
   ]
  },
  {
   "cell_type": "code",
   "execution_count": 33,
   "metadata": {},
   "outputs": [],
   "source": [
    "test_model_feat = model_onehot_encoder.transform(gender_age_test['brand_model_label_code'].values.reshape(-1, 1))"
   ]
  },
  {
   "cell_type": "code",
   "execution_count": 34,
   "metadata": {},
   "outputs": [
    {
     "name": "stdout",
     "output_type": "stream",
     "text": [
      "phone model feature dim 1667\n"
     ]
    }
   ],
   "source": [
    "print('phone model feature dim', train_model_feat.shape[1])"
   ]
  },
  {
   "cell_type": "markdown",
   "metadata": {},
   "source": [
    "# app download feature"
   ]
  },
  {
   "cell_type": "code",
   "execution_count": 35,
   "metadata": {},
   "outputs": [],
   "source": [
    "device_app = app_events.merge(events, how='left', left_on='event_id', right_index=True)"
   ]
  },
  {
   "cell_type": "markdown",
   "metadata": {},
   "source": [
    "# the total number of  running apps numbers"
   ]
  },
  {
   "cell_type": "code",
   "execution_count": 36,
   "metadata": {},
   "outputs": [],
   "source": [
    "total_run_s = device_app['app_id'].groupby(device_app['device_id']).size()"
   ]
  },
  {
   "cell_type": "markdown",
   "metadata": {},
   "source": [
    "# how many apps run in one time in device"
   ]
  },
  {
   "cell_type": "code",
   "execution_count": 37,
   "metadata": {},
   "outputs": [],
   "source": [
    "number_app_onetime = device_app['app_id'].groupby(device_app['device_id']).nunique()"
   ]
  },
  {
   "cell_type": "code",
   "execution_count": 38,
   "metadata": {},
   "outputs": [],
   "source": [
    "gender_age_train['n_run'] = total_run_s\n",
    "gender_age_train['n_app'] = number_app_onetime"
   ]
  },
  {
   "cell_type": "markdown",
   "metadata": {},
   "source": [
    "# fill out the missing value"
   ]
  },
  {
   "cell_type": "code",
   "execution_count": 39,
   "metadata": {},
   "outputs": [],
   "source": [
    "gender_age_train['n_run'].fillna(0, inplace=True)"
   ]
  },
  {
   "cell_type": "code",
   "execution_count": 40,
   "metadata": {},
   "outputs": [],
   "source": [
    "gender_age_train['n_app'].fillna(0, inplace=True)"
   ]
  },
  {
   "cell_type": "code",
   "execution_count": 41,
   "metadata": {},
   "outputs": [],
   "source": [
    "gender_age_test['n_run'] = total_run_s\n",
    "gender_age_test['n_app'] = number_app_onetime"
   ]
  },
  {
   "cell_type": "code",
   "execution_count": 42,
   "metadata": {},
   "outputs": [],
   "source": [
    "gender_age_test['n_run'].fillna(0, inplace=True)"
   ]
  },
  {
   "cell_type": "code",
   "execution_count": 43,
   "metadata": {},
   "outputs": [],
   "source": [
    "gender_age_test['n_app'].fillna(0, inplace=True)"
   ]
  },
  {
   "cell_type": "code",
   "execution_count": 44,
   "metadata": {},
   "outputs": [],
   "source": [
    "train_run_feat = gender_age_train['n_run'].values.reshape(-1, 1)"
   ]
  },
  {
   "cell_type": "code",
   "execution_count": 45,
   "metadata": {},
   "outputs": [],
   "source": [
    "train_app_feat = gender_age_train['n_app'].values.reshape(-1, 1)"
   ]
  },
  {
   "cell_type": "code",
   "execution_count": 46,
   "metadata": {},
   "outputs": [],
   "source": [
    "test_run_feat = gender_age_test['n_run'].values.reshape(-1, 1)\n",
    "test_app_feat = gender_age_test['n_app'].values.reshape(-1, 1)"
   ]
  },
  {
   "cell_type": "markdown",
   "metadata": {},
   "source": [
    "# merge feature"
   ]
  },
  {
   "cell_type": "code",
   "execution_count": 47,
   "metadata": {},
   "outputs": [],
   "source": [
    "train_feat = np.hstack((train_brand_feat.toarray(), train_model_feat.toarray(), train_run_feat, train_app_feat))"
   ]
  },
  {
   "cell_type": "code",
   "execution_count": 49,
   "metadata": {},
   "outputs": [],
   "source": [
    "test_feat = np.hstack((test_brand_feat.toarray(), test_model_feat.toarray(), test_run_feat, test_app_feat))"
   ]
  },
  {
   "cell_type": "code",
   "execution_count": null,
   "metadata": {},
   "outputs": [],
   "source": [
    "# Normalization of feature range"
   ]
  },
  {
   "cell_type": "code",
   "execution_count": 50,
   "metadata": {},
   "outputs": [],
   "source": [
    "scaler = StandardScaler()\n",
    "train_feat_scaled = scaler.fit_transform(train_feat)"
   ]
  },
  {
   "cell_type": "code",
   "execution_count": 51,
   "metadata": {},
   "outputs": [],
   "source": [
    "test_feat_scaled = scaler.transform(test_feat)"
   ]
  },
  {
   "cell_type": "code",
   "execution_count": null,
   "metadata": {},
   "outputs": [],
   "source": [
    "#choose feature using variance to choose feature"
   ]
  },
  {
   "cell_type": "code",
   "execution_count": 52,
   "metadata": {},
   "outputs": [],
   "source": [
    "select = VarianceThreshold(threshold=(.8 * (1 - .8)))"
   ]
  },
  {
   "cell_type": "code",
   "execution_count": 53,
   "metadata": {},
   "outputs": [],
   "source": [
    "train_feat_scaled_select = select.fit_transform(train_feat_scaled)"
   ]
  },
  {
   "cell_type": "code",
   "execution_count": 55,
   "metadata": {},
   "outputs": [],
   "source": [
    "test_feat_scaled_select = select.transform(test_feat_scaled)"
   ]
  },
  {
   "cell_type": "code",
   "execution_count": null,
   "metadata": {},
   "outputs": [],
   "source": [
    "# pca Principal Component Analysis to decrase dimension to remove some error"
   ]
  },
  {
   "cell_type": "code",
   "execution_count": 56,
   "metadata": {},
   "outputs": [],
   "source": [
    "pca = PCA(n_components=0.95) # keep have 95% contribution rate feature"
   ]
  },
  {
   "cell_type": "code",
   "execution_count": 57,
   "metadata": {},
   "outputs": [],
   "source": [
    "train_feat_scaled_select_pca = pca.fit_transform(train_feat_scaled_select)"
   ]
  },
  {
   "cell_type": "code",
   "execution_count": 58,
   "metadata": {},
   "outputs": [],
   "source": [
    "test_feat_scaled_select_pca = pca.transform(test_feat_scaled_select)"
   ]
  },
  {
   "cell_type": "code",
   "execution_count": 59,
   "metadata": {},
   "outputs": [
    {
     "name": "stdout",
     "output_type": "stream",
     "text": [
      "finish feature engineering\n"
     ]
    }
   ],
   "source": [
    "print(\"finish feature engineering\")"
   ]
  },
  {
   "cell_type": "code",
   "execution_count": 60,
   "metadata": {},
   "outputs": [
    {
     "data": {
      "text/plain": [
       "1167"
      ]
     },
     "execution_count": 60,
     "metadata": {},
     "output_type": "execute_result"
    }
   ],
   "source": [
    "train_feat_scaled_select_pca.shape[1] #After processing,  feature dimension of each sample"
   ]
  },
  {
   "cell_type": "code",
   "execution_count": null,
   "metadata": {},
   "outputs": [],
   "source": [
    "# put label to data"
   ]
  },
  {
   "cell_type": "code",
   "execution_count": 61,
   "metadata": {},
   "outputs": [],
   "source": [
    "group_label_encoder = LabelEncoder()"
   ]
  },
  {
   "cell_type": "code",
   "execution_count": 62,
   "metadata": {},
   "outputs": [
    {
     "data": {
      "text/plain": [
       "LabelEncoder()"
      ]
     },
     "execution_count": 62,
     "metadata": {},
     "output_type": "execute_result"
    }
   ],
   "source": [
    "group_label_encoder.fit(gender_age_train['group'].values)"
   ]
  },
  {
   "cell_type": "code",
   "execution_count": 63,
   "metadata": {},
   "outputs": [],
   "source": [
    "y_train = group_label_encoder.transform(gender_age_train['group'].values)"
   ]
  },
  {
   "cell_type": "code",
   "execution_count": 64,
   "metadata": {},
   "outputs": [],
   "source": [
    "y_test = group_label_encoder.transform(gender_age_test['group'].values)"
   ]
  },
  {
   "cell_type": "code",
   "execution_count": null,
   "metadata": {},
   "outputs": [],
   "source": [
    "# finish label to date and do svm and regression adlgorithm"
   ]
  },
  {
   "cell_type": "code",
   "execution_count": 65,
   "metadata": {},
   "outputs": [],
   "source": [
    "from sklearn.model_selection import GridSearchCV"
   ]
  },
  {
   "cell_type": "code",
   "execution_count": 66,
   "metadata": {},
   "outputs": [],
   "source": [
    "# using cross validation to get best model and default cv is 5\n",
    "def get_best_model(model, X_train, y_train, params, cv=5):  \n",
    "    clf = GridSearchCV(model, params, cv=cv)\n",
    "    clf.fit(X_train, y_train)\n",
    "    return clf.best_estimator_                                 "
   ]
  },
  {
   "cell_type": "code",
   "execution_count": 67,
   "metadata": {},
   "outputs": [],
   "source": [
    "param_grid = [{'C': [1e-3, 1e-2, 1e-1, 1, 10, 100]}] #Specify 6  hyperparameters to select the best model less  number the stronger standarization"
   ]
  },
  {
   "cell_type": "code",
   "execution_count": 68,
   "metadata": {},
   "outputs": [],
   "source": [
    "model = LogisticRegression()"
   ]
  },
  {
   "cell_type": "code",
   "execution_count": 70,
   "metadata": {},
   "outputs": [],
   "source": [
    "bestmodel = get_best_model(model,train_feat_scaled_select_pca, y_train,param_grid, cv=3)"
   ]
  },
  {
   "cell_type": "code",
   "execution_count": 72,
   "metadata": {},
   "outputs": [],
   "source": [
    "y_pred_lr = bestmodel.predict_proba(test_feat_scaled_select_pca)"
   ]
  },
  {
   "cell_type": "code",
   "execution_count": 73,
   "metadata": {},
   "outputs": [
    {
     "data": {
      "text/plain": [
       "2.5588730537839792"
      ]
     },
     "execution_count": 73,
     "metadata": {},
     "output_type": "execute_result"
    }
   ],
   "source": [
    "log_loss(y_test, y_pred_lr)"
   ]
  },
  {
   "cell_type": "code",
   "execution_count": null,
   "metadata": {},
   "outputs": [],
   "source": [
    "# svm model implement"
   ]
  },
  {
   "cell_type": "code",
   "execution_count": 74,
   "metadata": {},
   "outputs": [],
   "source": [
    "svm_param_grid = [{'C': [1e-2, 1e-1, 1, 10, 100], 'gamma': [0.001, 0.0001], 'kernel': ['rbf']},]"
   ]
  },
  {
   "cell_type": "code",
   "execution_count": null,
   "metadata": {},
   "outputs": [],
   "source": [
    "# set probility true so we can get the Predicted Probability"
   ]
  },
  {
   "cell_type": "code",
   "execution_count": 75,
   "metadata": {},
   "outputs": [],
   "source": [
    "svm_model = svm.SVC(probability=True)"
   ]
  },
  {
   "cell_type": "code",
   "execution_count": 76,
   "metadata": {},
   "outputs": [],
   "source": [
    "best_svm_model = get_best_model(svm_model,train_feat_scaled_select_pca,y_train,svm_param_grid, cv=3)"
   ]
  },
  {
   "cell_type": "code",
   "execution_count": 77,
   "metadata": {},
   "outputs": [],
   "source": [
    "y_pred_svm = best_svm_model.predict_proba(test_feat_scaled_select_pca)"
   ]
  },
  {
   "cell_type": "code",
   "execution_count": 78,
   "metadata": {},
   "outputs": [
    {
     "data": {
      "text/plain": [
       "2.417528026875335"
      ]
     },
     "execution_count": 78,
     "metadata": {},
     "output_type": "execute_result"
    }
   ],
   "source": [
    "log_loss(y_test, y_pred_svm)"
   ]
  },
  {
   "cell_type": "code",
   "execution_count": null,
   "metadata": {},
   "outputs": [],
   "source": []
  }
 ],
 "metadata": {
  "kernelspec": {
   "display_name": "Python 3",
   "language": "python",
   "name": "python3"
  },
  "language_info": {
   "codemirror_mode": {
    "name": "ipython",
    "version": 3
   },
   "file_extension": ".py",
   "mimetype": "text/x-python",
   "name": "python",
   "nbconvert_exporter": "python",
   "pygments_lexer": "ipython3",
   "version": "3.6.6"
  }
 },
 "nbformat": 4,
 "nbformat_minor": 2
}
