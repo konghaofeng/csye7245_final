{
 "cells": [
  {
   "cell_type": "code",
   "execution_count": 1,
   "metadata": {},
   "outputs": [],
   "source": [
    "import pandas as pd\n",
    "import math"
   ]
  },
  {
   "cell_type": "code",
   "execution_count": null,
   "metadata": {},
   "outputs": [],
   "source": [
    "#split train and test dataset"
   ]
  },
  {
   "cell_type": "code",
   "execution_count": 2,
   "metadata": {},
   "outputs": [],
   "source": [
    "def split_train_test(df_data, size=0.8):\n",
    "    df_train = pd.DataFrame()\n",
    "    df_test = pd.DataFrame()\n",
    "    labels = df_data['group'].unique().tolist()\n",
    "    for label in labels:\n",
    "        df_w_label = df_data[df_data['group'] == label]\n",
    "        df_w_label = df_w_label.reset_index()\n",
    "        \n",
    "        n_lines = df_w_label.shape[0]\n",
    "        split_line_no = math.floor(n_lines * size)\n",
    "        text_df_w_label_train = df_w_label.iloc[:split_line_no, :]\n",
    "        text_df_w_label_test = df_w_label.iloc[split_line_no:, :]\n",
    "        \n",
    "        df_train = df_train.append(text_df_w_label_train)\n",
    "        df_test = df_test.append(text_df_w_label_test)\n",
    "    df_train = df_train.reset_index()\n",
    "    df_test = df_test.reset_index()\n",
    "    return df_train, df_test\n",
    "        \n",
    "    "
   ]
  },
  {
   "cell_type": "code",
   "execution_count": null,
   "metadata": {},
   "outputs": [],
   "source": [
    "#get partial data from dataset"
   ]
  },
  {
   "cell_type": "code",
   "execution_count": 3,
   "metadata": {},
   "outputs": [],
   "source": [
    "def get_part_data(df_data, percent=1):\n",
    "    df_result = pd.DataFrame()\n",
    "    grouped = df_data.groupby('group')\n",
    "    for group_name, group in grouped:\n",
    "        n_group_size = group.shape[0]\n",
    "        n_part_size = math.floor(n_group_size * percent)\n",
    "        part_df = group.iloc[:n_part_size, :]\n",
    "        df_result = df_result.append(part_df)\n",
    "\n",
    "    return df_result"
   ]
  },
  {
   "cell_type": "code",
   "execution_count": null,
   "metadata": {},
   "outputs": [],
   "source": []
  }
 ],
 "metadata": {
  "kernelspec": {
   "display_name": "Python 3",
   "language": "python",
   "name": "python3"
  },
  "language_info": {
   "codemirror_mode": {
    "name": "ipython",
    "version": 3
   },
   "file_extension": ".py",
   "mimetype": "text/x-python",
   "name": "python",
   "nbconvert_exporter": "python",
   "pygments_lexer": "ipython3",
   "version": "3.6.6"
  }
 },
 "nbformat": 4,
 "nbformat_minor": 2
}
